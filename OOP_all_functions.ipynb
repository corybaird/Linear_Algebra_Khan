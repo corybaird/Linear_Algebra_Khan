{
 "cells": [
  {
   "cell_type": "code",
   "execution_count": 3,
   "metadata": {},
   "outputs": [],
   "source": [
    "import numpy as np\n",
    "import matplotlib.pyplot as plt\n",
    "import math"
   ]
  },
  {
   "cell_type": "code",
   "execution_count": 153,
   "metadata": {},
   "outputs": [
    {
     "name": "stdout",
     "output_type": "stream",
     "text": [
      "Vector_1 coordinates are: [-8  1]\n",
      "Vector_2 coordinates are: [-2  7]\n",
      "None\n"
     ]
    }
   ],
   "source": [
    "class vectors(object):\n",
    "    \n",
    "    def __init__(self, basis_vecs):\n",
    "        self.coordinates = tuple([i for i in basis_vecs])\n",
    "        \n",
    "    def current_vectors(self):\n",
    "        vecs = tuple(self.coordinates)\n",
    "        for idx, vec in enumerate(vecs):\n",
    "            print(f'Vector_{idx+1} coordinates are: {np.ravel(vec)}')\n",
    "    \n",
    "    def scalar_multiply(self, c):\n",
    "        new_coords = tuple([c*x for x in self.coordinates])\n",
    "        return new_coords\n",
    "    \n",
    "    def magnitude(self):\n",
    "        coords_squared = tuple([x**2 for x in self.coordinates])\n",
    "        mag = tuple([math.sqrt(sum(x)) for x in coords_squared])\n",
    "        return mag\n",
    "    \n",
    "    def normalize(self):\n",
    "        magn = self.magnitude()\n",
    "        norm = tuple([1/x for x in magn])\n",
    "        return norm\n",
    "    \n",
    "    def unit_vector(self):\n",
    "        norm = tuple(self.normalize())\n",
    "        unit_vector = [a*b for a,b in zip(norm, self.coordinates)]\n",
    "        return unit_vector \n",
    "        \n",
    "    def Angle_between_vectors(self):\n",
    "        if len(self.coordinates) ==2:\n",
    "            v1_m,v2_m = self.magnitude()\n",
    "            v1,v2 = self.coordinates\n",
    "            print(f'Vector1 magnitude: {round(v1_m,2)}')\n",
    "            print(f'Vector2 magnitude: {round(v2_m,2)}')\n",
    "            inner_product = np.dot(np.ravel(v1), np.ravel(v2))\n",
    "            print(f'Inner product of vectors: {inner_product}')\n",
    "            angle_rad = math.acos((inner_product/ (v1_m*v2_m)))\n",
    "            degrees_per_radian = 180/math.pi\n",
    "            solution = angle_rad* degrees_per_radian\n",
    "            print(f'Angle between vector 1 & 2 is: {round(solution,2)}°')\n",
    "    \n",
    "        else:\n",
    "            print('Method only works for two vector input')\n",
    "       \n",
    "    \n",
    "vec1 = np.array([[-8],[1]])\n",
    "vec2 = np.array([[-2],[7]])\n",
    "inst = vectors([vec1,vec2])\n",
    "print(inst.current_vectors())"
   ]
  },
  {
   "cell_type": "code",
   "execution_count": 222,
   "metadata": {},
   "outputs": [
    {
     "data": {
      "text/plain": [
       "(2.23606797749979, 7.280109889280518)"
      ]
     },
     "execution_count": 222,
     "metadata": {},
     "output_type": "execute_result"
    }
   ],
   "source": [
    "inst.magnitude()"
   ]
  },
  {
   "cell_type": "code",
   "execution_count": 155,
   "metadata": {},
   "outputs": [
    {
     "data": {
      "text/plain": [
       "(0.12403473458920847, 0.13736056394868904)"
      ]
     },
     "execution_count": 155,
     "metadata": {},
     "output_type": "execute_result"
    }
   ],
   "source": [
    "inst.normalize()"
   ]
  },
  {
   "cell_type": "code",
   "execution_count": 156,
   "metadata": {},
   "outputs": [
    {
     "data": {
      "text/plain": [
       "[array([[-0.99227788],\n",
       "        [ 0.12403473]]), array([[-0.27472113],\n",
       "        [ 0.96152395]])]"
      ]
     },
     "execution_count": 156,
     "metadata": {},
     "output_type": "execute_result"
    }
   ],
   "source": [
    "inst.unit_vector()"
   ]
  },
  {
   "cell_type": "code",
   "execution_count": 157,
   "metadata": {},
   "outputs": [
    {
     "name": "stdout",
     "output_type": "stream",
     "text": [
      "Vector1 magnitude: 8.06\n",
      "Vector2 magnitude: 7.28\n",
      "Inner product of vectors: 23\n",
      "Angle between vector 1 & 2 is: 66.93°\n"
     ]
    }
   ],
   "source": [
    "inst.Angle_between_vectors()"
   ]
  },
  {
   "cell_type": "markdown",
   "metadata": {},
   "source": [
    "# Inheritance"
   ]
  },
  {
   "cell_type": "code",
   "execution_count": 286,
   "metadata": {},
   "outputs": [
    {
     "data": {
      "image/png": "[encoded data removed]",
      "text/plain": [
       "<Figure size 432x288 with 1 Axes>"
      ]
     },
     "metadata": {
      "needs_background": "light"
     },
     "output_type": "display_data"
    }
   ],
   "source": [
    "class graph(vectors):\n",
    "    \n",
    "    def __init__(self, basis_vecs):\n",
    "        self.coordinates = tuple([i for i in basis_vecs])\n",
    "        super().__init__(basis_vecs)\n",
    "    \n",
    "    def plot(self, magnitude=False, unit_vector=False):\n",
    "        plt.figure()\n",
    "        ax = plt.gca()\n",
    "        vectors = tuple([x for x in self.coordinates])\n",
    "        for v in vectors:\n",
    "                ax.quiver(0,0, v[0], v[1], angles='xy',scale_units='xy',scale=1)\n",
    "        x,y = zip(*vectors)\n",
    "        ax.set_xlim([min(x)-3, max(x)+3])\n",
    "        ax.set_ylim([min(y)-3,max(y)+3])\n",
    "        \n",
    "        \n",
    "        if magnitude:\n",
    "            mag = tuple(self.magnitude())\n",
    "            vectors = tuple([x for x in self.coordinates])\n",
    "            for idx, (v,m) in enumerate(zip(vectors,mag)):\n",
    "                ax.text(v[0]*1.1, v[1]*1.1,\n",
    "                        'Vector'+ str(idx+1)+ ': magnitude of ' +str(round(m,2)), color='blue')\n",
    "       \n",
    "        if unit_vector:\n",
    "            norm = tuple(self.unit_vector())\n",
    "            for idx,n in enumerate(norm):\n",
    "                ax.quiver(0,0, n[0], n[1], angles='xy',scale_units='xy',scale=1, color='orange')\n",
    "                ax.text(n[0]*2, n[1]*2,\n",
    "                        'Unit_vec'+ str(idx+1)+ ':'+ str((np.ravel(n).round(2))), color='orange', weight='bold')\n",
    "       \n",
    "        if projection:\n",
    "\n",
    "       \n",
    "            \n",
    "        plt.axvline(color='black')\n",
    "        plt.axhline(color='black')\n",
    "        plt.grid()\n",
    "        plt.draw()\n",
    "        plt.show()\n",
    "\n",
    "vec1 = np.array([[2],[1]])\n",
    "vec2 = np.array([[2],[7]])\n",
    "inst = graph([vec1,vec2])\n",
    "inst.plot(unit_vector=True)"
   ]
  }
 ],
 "metadata": {
  "kernelspec": {
   "display_name": "Python 3",
   "language": "python",
   "name": "python3"
  },
  "language_info": {
   "codemirror_mode": {
    "name": "ipython",
    "version": 3
   },
   "file_extension": ".py",
   "mimetype": "text/x-python",
   "name": "python",
   "nbconvert_exporter": "python",
   "pygments_lexer": "ipython3",
   "version": "3.6.8"
  }
 },
 "nbformat": 4,
 "nbformat_minor": 2
}
