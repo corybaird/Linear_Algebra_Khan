{
 "cells": [
  {
   "cell_type": "code",
   "execution_count": 1,
   "metadata": {},
   "outputs": [],
   "source": [
    "import numpy as np\n",
    "import math"
   ]
  },
  {
   "cell_type": "code",
   "execution_count": 2,
   "metadata": {},
   "outputs": [
    {
     "data": {
      "text/plain": [
       "2.23606797749979"
      ]
     },
     "execution_count": 2,
     "metadata": {},
     "output_type": "execute_result"
    }
   ],
   "source": [
    "# User created function Function\n",
    "def magnitude(vector):\n",
    "    coords_squared = tuple([x**2 for x in vector])\n",
    "    result = math.sqrt(sum(coords_squared))\n",
    "    return result\n",
    "#Example\n",
    "magnitude(np.array([1,2]))"
   ]
  },
  {
   "cell_type": "code",
   "execution_count": 3,
   "metadata": {},
   "outputs": [
    {
     "name": "stdout",
     "output_type": "stream",
     "text": [
      "Vector1 magnitude: 8.06\n",
      "Vector2 magnitude: 7.28\n",
      "Inner product of vectors: 23\n",
      "Angle between vector 1 & 2 is: 66.93°\n"
     ]
    }
   ],
   "source": [
    "def Angle_between_vectors(vector1, vector2):\n",
    "    mag_vec1 = magnitude(vector1)\n",
    "    mag_vec2 = magnitude(vector2)\n",
    "    print(f'Vector1 magnitude: {round(mag_vec1,2)}')\n",
    "    print(f'Vector2 magnitude: {round(mag_vec2,2)}')\n",
    "    inner_product = np.dot(vector1, vector2)\n",
    "    print(f'Inner product of vectors: {inner_product}')\n",
    "    angle_rad = math.acos((inner_product/ (mag_vec1*mag_vec2)))\n",
    "    degrees_per_radian = 180/math.pi\n",
    "    solution = angle_rad* degrees_per_radian\n",
    "    print(f'Angle between vector 1 & 2 is: {round(solution,2)}°')\n",
    "#Example\n",
    "Angle_between_vectors([-8,1],[-2,7])"
   ]
  },
  {
   "cell_type": "code",
   "execution_count": 4,
   "metadata": {},
   "outputs": [
    {
     "data": {
      "text/plain": [
       "array([0.4472136 , 0.89442719])"
      ]
     },
     "execution_count": 4,
     "metadata": {},
     "output_type": "execute_result"
    }
   ],
   "source": [
    "def unit_vector(vector):\n",
    "    coords_squared = tuple([x**2 for x in vector])\n",
    "    magnitude = math.sqrt(sum(coords_squared))\n",
    "    normalized = (1/magnitude)\n",
    "    unit_vector = np.multiply(vector, normalized)\n",
    "    return unit_vector\n",
    "#Example\n",
    "unit_vector(np.array([1,2]))"
   ]
  },
  {
   "cell_type": "code",
   "execution_count": 5,
   "metadata": {},
   "outputs": [
    {
     "data": {
      "text/plain": [
       "array([2.8, 1.4])"
      ]
     },
     "execution_count": 5,
     "metadata": {},
     "output_type": "execute_result"
    }
   ],
   "source": [
    "def projection_length(line, x_vec):\n",
    "    unit = unit_vector(line)\n",
    "    equation = (np.dot(x,unit))*unit\n",
    "    return equation\n",
    "\n",
    "#Example\n",
    "line = np.array([2,1])\n",
    "x = np.array([2,3])\n",
    "projection_length(line, x)"
   ]
  },
  {
   "cell_type": "code",
   "execution_count": 6,
   "metadata": {},
   "outputs": [
    {
     "data": {
      "text/plain": [
       "array([[ 0.66666667, -0.33333333,  0.        ,  0.33333333],\n",
       "       [-0.33333333,  0.66666667,  0.        ,  0.33333333],\n",
       "       [ 0.        ,  0.        ,  0.        ,  0.        ],\n",
       "       [ 0.33333333,  0.33333333,  0.        ,  0.66666667]])"
      ]
     },
     "execution_count": 6,
     "metadata": {},
     "output_type": "execute_result"
    }
   ],
   "source": [
    "#Function to solve subspace projection matrix\n",
    "def subspace_projection(matrix):\n",
    "    A = matrix\n",
    "    A_trans = matrix.T\n",
    "    inverse = np.linalg.inv(np.dot(A_trans,A))\n",
    "    A_dot_inv = np.dot(A, inverse)\n",
    "    A_dot_inv_dot_Atrans = np.dot(A_dot_inv, A_trans)\n",
    "    return A_dot_inv_dot_Atrans\n",
    "\n",
    "#Example\n",
    "A = np.array([[1,0],[0,1],[0,0],[1,1]])\n",
    "subspace_projection(A)"
   ]
  },
  {
   "cell_type": "code",
   "execution_count": 7,
   "metadata": {},
   "outputs": [
    {
     "name": "stdout",
     "output_type": "stream",
     "text": [
      "Change of basis matrix inverted:\n",
      "[[-0.2  0.4]\n",
      " [ 0.6 -0.2]]\n",
      "Coordinates of input vector w.r.t. basis matrix:\n",
      "[[-0.6  3.8]]\n"
     ]
    }
   ],
   "source": [
    "def invertible_change_basis(vec_a, change_basis_matrix):\n",
    "    c_inv = np.linalg.inv(change_basis_matrix)\n",
    "    print('Change of basis matrix inverted:')\n",
    "    print(c_inv)\n",
    "    coordinates_wrt_basis_b = np.dot(c_inv, a)\n",
    "    print('Coordinates of input vector w.r.t. basis matrix:')\n",
    "    print(coordinates_wrt_basis_b)\n",
    "\n",
    "#Example\n",
    "c = np.matrix([[1,2],[3,1]])\n",
    "a = np.array([7,2])\n",
    "invertible_change_basis(a, c)"
   ]
  },
  {
   "cell_type": "code",
   "execution_count": 8,
   "metadata": {},
   "outputs": [
    {
     "name": "stdout",
     "output_type": "stream",
     "text": [
      "Change of basis matrix inverted:\n",
      "[[-0.33333333  0.66666667]\n",
      " [ 0.66666667 -0.33333333]]\n",
      "D transformation w.r.t to alternate basis:\n",
      "[[-1.  0.]\n",
      " [ 0.  2.]]\n"
     ]
    }
   ],
   "source": [
    "def alternate_basis_transform(transformation_matrix, alternate_basis):\n",
    "    #D= C^{-1}AC\n",
    "    c = alternate_basis\n",
    "    c_inv = np.linalg.inv(alternate_basis)\n",
    "    print('Change of basis matrix inverted:')\n",
    "    print(c_inv)\n",
    "    d_equals = np.dot(c_inv, np.dot(transformation_matrix, alternate_basis)) # C^-1 * A* C\n",
    "    print('D transformation w.r.t to alternate basis:')\n",
    "    print(d_equals)\n",
    "    \n",
    "#Example\n",
    "\n",
    "A = np.matrix([[3,-2],[2,-2]])\n",
    "B = np.matrix([[1,2],[2,1]])\n",
    "alternate_basis_transform(A,B)"
   ]
  }
 ],
 "metadata": {
  "kernelspec": {
   "display_name": "Python 3",
   "language": "python",
   "name": "python3"
  },
  "language_info": {
   "codemirror_mode": {
    "name": "ipython",
    "version": 3
   },
   "file_extension": ".py",
   "mimetype": "text/x-python",
   "name": "python",
   "nbconvert_exporter": "python",
   "pygments_lexer": "ipython3",
   "version": "3.6.8"
  }
 },
 "nbformat": 4,
 "nbformat_minor": 2
}
